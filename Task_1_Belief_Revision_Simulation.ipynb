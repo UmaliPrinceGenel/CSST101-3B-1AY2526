{
  "nbformat": 4,
  "nbformat_minor": 0,
  "metadata": {
    "colab": {
      "provenance": [],
      "authorship_tag": "ABX9TyNaHncRIUC0TNWkwX/HptHo",
      "include_colab_link": true
    },
    "kernelspec": {
      "name": "python3",
      "display_name": "Python 3"
    },
    "language_info": {
      "name": "python"
    }
  },
  "cells": [
    {
      "cell_type": "markdown",
      "metadata": {
        "id": "view-in-github",
        "colab_type": "text"
      },
      "source": [
        "<a href=\"https://colab.research.google.com/github/UmaliPrinceGenel/CSST101-3B-1AY2526/blob/main/Task_1_Belief_Revision_Simulation.ipynb\" target=\"_parent\"><img src=\"https://colab.research.google.com/assets/colab-badge.svg\" alt=\"Open In Colab\"/></a>"
      ]
    },
    {
      "cell_type": "code",
      "execution_count": 1,
      "metadata": {
        "colab": {
          "base_uri": "https://localhost:8080/"
        },
        "id": "SmK6rdYcAU1p",
        "outputId": "f167a3cb-0047-4f09-f126-fa315798996c"
      },
      "outputs": [
        {
          "output_type": "stream",
          "name": "stdout",
          "text": [
            "Input: dodo\n",
            "Reasoning: dodo are birds.\n",
            "However, dodo do not fly\n",
            "Conclusion: dodo cannot fly \n"
          ]
        }
      ],
      "source": [
        "animal = input(\"Input: \").lower()\n",
        "print(f\"Reasoning: {animal} are birds.\")\n",
        "if animal in ['penguin', 'ostrich', 'dodo']:\n",
        "  print(f\"However, {animal} do not fly\")\n",
        "  print(f\"Conclusion: {animal} cannot fly \")\n",
        "elif animal in ['crow', 'seagull', 'falcon']:\n",
        "  print(f\"Conclusion: {animal} can fly\")\n",
        "else:\n",
        "  print('Conclusion: Unknown animal')\n"
      ]
    }
  ]
}