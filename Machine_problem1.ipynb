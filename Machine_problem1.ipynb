{
  "nbformat": 4,
  "nbformat_minor": 0,
  "metadata": {
    "colab": {
      "provenance": [],
      "authorship_tag": "ABX9TyMdsksyDqSC/Ll9xg+tlvZt",
      "include_colab_link": true
    },
    "kernelspec": {
      "name": "python3",
      "display_name": "Python 3"
    },
    "language_info": {
      "name": "python"
    }
  },
  "cells": [
    {
      "cell_type": "markdown",
      "metadata": {
        "id": "view-in-github",
        "colab_type": "text"
      },
      "source": [
        "<a href=\"https://colab.research.google.com/github/UmaliPrinceGenel/CSST101-3B-1AY2526/blob/main/Machine_problem1.ipynb\" target=\"_parent\"><img src=\"https://colab.research.google.com/assets/colab-badge.svg\" alt=\"Open In Colab\"/></a>"
      ]
    },
    {
      "cell_type": "code",
      "execution_count": 55,
      "metadata": {
        "id": "mSrTbA58dI2K"
      },
      "outputs": [],
      "source": [
        "import csv\n",
        "from datetime import datetime"
      ]
    },
    {
      "cell_type": "code",
      "source": [
        "#Logic Functions\n",
        "def impl(P,Q):\n",
        "  return (not P) or Q\n",
        "def tf(b:bool) -> str:\n",
        "  return \"T\" if b else \"F\""
      ],
      "metadata": {
        "id": "T40vEHrOdYJp"
      },
      "execution_count": 56,
      "outputs": []
    },
    {
      "cell_type": "code",
      "source": [
        "#Logger\n",
        "def log_result(student_name, rule_name, result):\n",
        "  with open(\"logic_results.csv\", \"a\", newline=\"\") as file:\n",
        "    writer = csv.writer(file)\n",
        "    writer.writerow([datetime.now().strftime(\"%Y-%n-%d %H:%M:%S\"),student_name,rule_name, result])"
      ],
      "metadata": {
        "id": "eZcI5idHdepI"
      },
      "execution_count": 57,
      "outputs": []
    },
    {
      "cell_type": "code",
      "source": [
        "#Rule 1: Attemdance\n",
        "def attendance_rule(student_name):\n",
        "  print(\"\\n--- Attendance Rule Checker ---\")\n",
        "  late = input(\"Is the student late? (T/F): \").strip().upper() == \"T\"\n",
        "  excuse = input(\"Did the student bring an excuse letter? (T/F): \").strip().upper() == \"T\"\n",
        "\n",
        "  result = impl(late, excuse)\n",
        "  outcome = \"Satisfied \" if result else \"Violated\"\n",
        "\n",
        "  print(f\"P = {tf(late)} {late}, Q = {tf(excuse)} (Excuse Letter)\")\n",
        "  print(\"Result: \", outcome)\n",
        "\n",
        "  log_result(student_name, \"Attendance Rule\", outcome)"
      ],
      "metadata": {
        "id": "XC59mlufeR46"
      },
      "execution_count": 58,
      "outputs": []
    },
    {
      "cell_type": "code",
      "source": [
        "#Rule 2: Grading\n",
        "def grading_rule(student_name):\n",
        "  print(\"\\n--- Grading Rule Checker ---\")\n",
        "  try:\n",
        "    grade = float(input(\"Enter student grade: \"))\n",
        "  except ValueError:\n",
        "    print(\"Invalid grade input\")\n",
        "    return\n",
        "  P = True\n",
        "  Q = grade >= 75 # passif >= 75\n",
        "  result = impl(P,Q)\n",
        "  outcome = \"Satisfied\" if result else \"Violated\"\n",
        "\n",
        "  print(f\"P = {tf(P)} (grade >= 75), Q = {tf(Q)} (student passes)\")\n",
        "  print(\"Result: \", outcome)\n",
        "  log_result(student_name, \"Grading Rule\", outcome)"
      ],
      "metadata": {
        "id": "aCPMEnXafhNw"
      },
      "execution_count": 59,
      "outputs": []
    },
    {
      "cell_type": "code",
      "source": [
        "#Rule 3: Login System\n",
        "def login_rule(student_name):\n",
        "  print(\"\\n--- Login rule Checker ---\")\n",
        "  correct_password = \"admin123\"\n",
        "  attempt = input(\"Enter password: \")\n",
        "  P= True\n",
        "  Q= (attempt == correct_password)\n",
        "  result= impl(P, Q)\n",
        "  outcome = \"Access Granted\" if result else \"Access denied\"\n",
        "  print(f\"P = {tf(P)} (Password Correct), Q = {tf(Q)} Access Granted\")\n",
        "  print(\"Result: \", outcome)\n",
        "  log_result(student_name, \"Login Rule\", outcome)"
      ],
      "metadata": {
        "id": "a1HxpCeLgtiS"
      },
      "execution_count": 60,
      "outputs": []
    },
    {
      "cell_type": "code",
      "source": [
        "#Rule 4 Bonus Points\n",
        "def bonus_rule(student_name):\n",
        "  print(\"\\n--- Bonus Points Eligibility Checker ---\")\n",
        "  regular = input(\"Does the student have regular attendance? (T/F): \").strip().upper() == \"T\"\n",
        "\n",
        "  P = regular\n",
        "  Q = regular\n",
        "  result = impl(P,Q)\n",
        "  outcome = \"Satisfied\" if result else \"Violated\"\n",
        "  print(f\"P = {tf(regular)} (Regular attendance), Q = {tf(regular)} (Bonus Eligible)\")\n",
        "  print(\"Result: \", outcome)\n",
        "  log_result(student_name, \"Bonus Rule\", outcome)"
      ],
      "metadata": {
        "id": "xYyH_f0Dh0WX"
      },
      "execution_count": 61,
      "outputs": []
    },
    {
      "cell_type": "code",
      "source": [
        "#Rule 5 Laboratory Access\n",
        "def Laboratory_Access(student_name):\n",
        "  print(\"\\n--- Laboratory Access Checker ---\")\n",
        "  safety_gear = input(\"Does the student wears safety gear? (T/F): \").strip().upper() == \"T\"\n",
        "  P = safety_gear\n",
        "  Q = safety_gear\n",
        "  result = impl(P,Q)\n",
        "  outcome = \"Access Granted\" if result else \"Violated\"\n",
        "  print(f\"P = {tf(safety_gear)} (Safety Gear Worn), Q = {tf(safety_gear)} (Laboratory Access)\")\n",
        "  print(\"Result: \", outcome)\n",
        "  log_result(student_name, \"Laboratory Access\", outcome)"
      ],
      "metadata": {
        "id": "UXePcZSSqSk6"
      },
      "execution_count": 62,
      "outputs": []
    },
    {
      "cell_type": "code",
      "source": [
        "# Main menu\n",
        "def main():\n",
        "  print(\" === University Logic Rules System === \")\n",
        "  student_name = input(\"Enter Student name: \").strip()\n",
        "  while True:\n",
        "    print(\"\\n-------------------------------\")\n",
        "    print(\" Main Menu\" )\n",
        "    print(\"\\n-------------------------------\")\n",
        "    print(\"1) Attendance Rule Checker\")\n",
        "    print(\"2) Grade Rule Checker\")\n",
        "    print(\"3) Login System Rule Checker\")\n",
        "    print(\"4) Bonus Points Checker\")\n",
        "    print(\"5) Laboratory Access Checker\")\n",
        "    print(\"6) Exit\")\n",
        "\n",
        "    choice = input(\"Choose an option(1-6): \").strip()\n",
        "    if choice == \"1\":\n",
        "      attendance_rule(student_name)\n",
        "    elif choice == \"2\":\n",
        "      grading_rule(student_name)\n",
        "    elif choice == \"3\":\n",
        "      login_rule(student_name)\n",
        "    elif choice == \"4\":\n",
        "      bonus_rule(student_name)\n",
        "    elif choice == \"5\":\n",
        "      Laboratory_Access(student_name)\n",
        "    elif choice == \"6\":\n",
        "      print(\"Exiting... Results saved to logic_results.csv\")\n",
        "      break\n",
        "    else:\n",
        "      print(\"Invalid choice. Try Again\")\n",
        "\n",
        "\n",
        "\n",
        "\n",
        "\n"
      ],
      "metadata": {
        "id": "Hy1cWwIkiwl3"
      },
      "execution_count": 63,
      "outputs": []
    },
    {
      "cell_type": "code",
      "source": [
        "if __name__ == \"__main__\":\n",
        "  with open(\"logic_results.csv\", \"a\", newline=\"\") as file:\n",
        "    writer = csv.writer(file)\n",
        "    if file.tell()== 0 :\n",
        "      writer.writerow([\"Timestamp\", \"Student Name\", \"Rule\", \"Result\"])\n",
        "    main()"
      ],
      "metadata": {
        "colab": {
          "base_uri": "https://localhost:8080/"
        },
        "id": "dFarIU7AkcVN",
        "outputId": "de02c224-e361-43b7-9f56-83e366ee58fb"
      },
      "execution_count": null,
      "outputs": [
        {
          "output_type": "stream",
          "name": "stdout",
          "text": [
            " === University Logic Rules System === \n",
            "Enter Student name: john\n",
            "\n",
            "-------------------------------\n",
            " Main Menu\n",
            "\n",
            "-------------------------------\n",
            "1) Attendance Rule Checker\n",
            "2) Grade Rule Checker\n",
            "3) Login System Rule Checker\n",
            "4) Bonus Points Checker\n",
            "5) Laboratory Access Checker\n",
            "6) Exit\n",
            "Choose an option(1-6): 2\n",
            "\n",
            "--- Grading Rule Checker ---\n",
            "Enter student grade: 60\n",
            "P = T (grade >= 75), Q = F (student passes)\n",
            "Result:  Violated\n",
            "\n",
            "-------------------------------\n",
            " Main Menu\n",
            "\n",
            "-------------------------------\n",
            "1) Attendance Rule Checker\n",
            "2) Grade Rule Checker\n",
            "3) Login System Rule Checker\n",
            "4) Bonus Points Checker\n",
            "5) Laboratory Access Checker\n",
            "6) Exit\n",
            "Choose an option(1-6): 5\n",
            "\n",
            "--- Laboratory Access Checker ---\n",
            "Does the student wears safety gear? (T/F): t\n",
            "P = T (Safety Gear Worn), Q = T (Laboratory Access)\n",
            "Result:  Access Granted\n",
            "\n",
            "-------------------------------\n",
            " Main Menu\n",
            "\n",
            "-------------------------------\n",
            "1) Attendance Rule Checker\n",
            "2) Grade Rule Checker\n",
            "3) Login System Rule Checker\n",
            "4) Bonus Points Checker\n",
            "5) Laboratory Access Checker\n",
            "6) Exit\n",
            "Choose an option(1-6): 5\n",
            "\n",
            "--- Laboratory Access Checker ---\n",
            "Does the student wears safety gear? (T/F): f\n",
            "P = F (Safety Gear Worn), Q = F (Laboratory Access)\n",
            "Result:  Access Granted\n",
            "\n",
            "-------------------------------\n",
            " Main Menu\n",
            "\n",
            "-------------------------------\n",
            "1) Attendance Rule Checker\n",
            "2) Grade Rule Checker\n",
            "3) Login System Rule Checker\n",
            "4) Bonus Points Checker\n",
            "5) Laboratory Access Checker\n",
            "6) Exit\n"
          ]
        }
      ]
    }
  ]
}