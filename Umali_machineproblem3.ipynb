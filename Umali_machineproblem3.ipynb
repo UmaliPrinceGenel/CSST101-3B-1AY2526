{
  "nbformat": 4,
  "nbformat_minor": 0,
  "metadata": {
    "colab": {
      "provenance": [],
      "authorship_tag": "ABX9TyMN7K9oBwFAzBAwY4fQNUO9",
      "include_colab_link": true
    },
    "kernelspec": {
      "name": "python3",
      "display_name": "Python 3"
    },
    "language_info": {
      "name": "python"
    }
  },
  "cells": [
    {
      "cell_type": "markdown",
      "metadata": {
        "id": "view-in-github",
        "colab_type": "text"
      },
      "source": [
        "<a href=\"https://colab.research.google.com/github/UmaliPrinceGenel/CSST101-3B-1AY2526/blob/main/Umali_machineproblem3.ipynb\" target=\"_parent\"><img src=\"https://colab.research.google.com/assets/colab-badge.svg\" alt=\"Open In Colab\"/></a>"
      ]
    },
    {
      "cell_type": "code",
      "execution_count": null,
      "metadata": {
        "colab": {
          "base_uri": "https://localhost:8080/"
        },
        "id": "bYmKUVc3r4mj",
        "outputId": "d54a2e26-ff9e-4cd8-b325-0edd27780495"
      },
      "outputs": [
        {
          "output_type": "stream",
          "name": "stdout",
          "text": [
            "How many hours you sleep a day?: 7\n",
            "Do you suffer stress and anxiety often? (yes/no): yes\n",
            "Do you have a health conditions? (yes/no):no\n",
            "While you are suffering stress and anxiety often, consider getting enough sleep to help reduce stress and anxiety.\n"
          ]
        }
      ],
      "source": [
        "# rule base system\n",
        "sleep = int(input(\"How many hours you sleep a day?: \"))\n",
        "if sleep >= 8:\n",
        "  meal = input(\"Do you eat nutritious food? (yes/no): \")\n",
        "  exercise = input(\"Do you exercise regularly? (yes/no): \")\n",
        "  if meal.lower() == \"yes\" and exercise.lower() == \"yes\":\n",
        "    print(\"You should keep the good habit and continue to prioritize your health\")\n",
        "  elif meal.lower() == \"no\" and exercise.lower() == \"yes\":\n",
        "    print(\"While you are getting enough sleep, consider improving your diet for better health and continue exercise regularly.\")\n",
        "  elif meal.lower() == \"yes\" and exercise.lower() == \"no\":\n",
        "    print(\"While you are getting enough sleep, consider exercising daily for your health and continue eating nutritious food.\")\n",
        "  elif meal.lower() == \"no\" and exercise.lower() == \"no\":\n",
        "    print(\"I see that you sleep 8 hours a day but consider improving both your diet and exercise for better health\")\n",
        "  else:\n",
        "    print(\"Invalid input for meal/exercise. Please answer yes or no.\")\n",
        "\n",
        "elif sleep < 8:\n",
        "  symptoms = input(\"Do you suffer stress and anxiety often? (yes/no): \")\n",
        "  health_conditions= input(\"Do you have a health conditions? (yes/no):\")\n",
        "  if symptoms.lower() == \"yes\" and health_conditions.lower() == \"yes\":\n",
        "    print(\"You must sleep more to address these causes to improve your sleeping quality.\")\n",
        "  elif symptoms.lower() == \"no\" and health_conditions.lower() == \"yes\":\n",
        "    print(\"While you are not suffering stress and anxiety often, consider getting enough sleep to manage your health conditions.\")\n",
        "  elif symptoms.lower() == \"yes\" and health_conditions.lower() == \"no\":\n",
        "    print(\"While you are suffering stress and anxiety often, consider getting enough sleep to help reduce stress and anxiety.\")\n",
        "  elif symptoms.lower() == \"no\" and health_conditions.lower() == \"no\":\n",
        "    print(\"Consider getting enough sleep to maintain your overall health and well-being.\")\n",
        "  else:\n",
        "    print(\"Invalid input for symptoms or health conditions. Please answer yes or no.\")\n",
        "else:\n",
        "  print(\"Invalid input number of hours for sleep\")"
      ]
    }
  ]
}